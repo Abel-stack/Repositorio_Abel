{
 "cells": [
  {
   "cell_type": "markdown",
   "id": "de2d26ec-91fc-46dd-b9d5-edc548cdb811",
   "metadata": {},
   "source": [
    "# Data Science Tools and Ecosystem"
   ]
  },
  {
   "cell_type": "markdown",
   "id": "03a3635d-609c-4c11-83e0-13811b51f52c",
   "metadata": {},
   "source": [
    "In this notebook, Data Science Tools and Ecosystem are summarized."
   ]
  },
  {
   "cell_type": "markdown",
   "id": "122c99e3-9a35-4263-872c-7abd07c2ad2e",
   "metadata": {},
   "source": [
    "Some of the popular languages that Data Scientists use are:\n",
    "1. Python\n",
    "2. R\n",
    "3. SQL"
   ]
  },
  {
   "cell_type": "markdown",
   "id": "18d3f1b6-b763-474e-b7b4-5a368cf6e104",
   "metadata": {},
   "source": [
    "Some of the commonly used libraries used by Data Scientists include:\n",
    "1. Pandas\n",
    "2. NumPy\n",
    "3. Matplotlib"
   ]
  },
  {
   "cell_type": "markdown",
   "id": "48fb2f72-3333-467c-ad34-395cf929dcc4",
   "metadata": {},
   "source": [
    "| Data Science Tools |\n",
    "|--------------------|\n",
    "| Jupyter Notebook    |\n",
    "| RStudio             |\n",
    "| Apache Spark        |"
   ]
  },
  {
   "cell_type": "markdown",
   "id": "099e5f93-d7bb-4946-8c3a-4f794f0a8cb2",
   "metadata": {},
   "source": [
    "### Below are a few examples of evaluating arithmetic expressions in Python"
   ]
  },
  {
   "cell_type": "code",
   "execution_count": 1,
   "id": "0fe6e66c-185f-4aff-9c5f-64615ff01329",
   "metadata": {},
   "outputs": [
    {
     "data": {
      "text/plain": [
       "17"
      ]
     },
     "execution_count": 1,
     "metadata": {},
     "output_type": "execute_result"
    }
   ],
   "source": [
    "# This is a simple arithmetic expression to multiply then add integers\n",
    "result = (3 * 4) + 5\n",
    "result"
   ]
  },
  {
   "cell_type": "code",
   "execution_count": 2,
   "id": "3b62450a-627d-492e-95b3-28ffbd288a96",
   "metadata": {},
   "outputs": [
    {
     "data": {
      "text/plain": [
       "3.3333333333333335"
      ]
     },
     "execution_count": 2,
     "metadata": {},
     "output_type": "execute_result"
    }
   ],
   "source": [
    "# This will convert 200 minutes to hours by dividing by 60\n",
    "hours = 200 / 60\n",
    "hours"
   ]
  },
  {
   "cell_type": "markdown",
   "id": "a937e782-4413-4011-8768-749621b23782",
   "metadata": {},
   "source": [
    "**Objectives:**\n",
    "- List popular languages for Data Science\n",
    "- List common libraries used in Data Science\n",
    "- Create a table of Data Science tools\n",
    "- Evaluate arithmetic expressions"
   ]
  },
  {
   "cell_type": "markdown",
   "id": "c9329030-2c9f-4971-bfc8-8f7d22e78cd9",
   "metadata": {},
   "source": [
    "## Author\n",
    "Abel Rodríguez Sepúlveda"
   ]
  },
  {
   "cell_type": "code",
   "execution_count": null,
   "id": "65a93e4c-1fe0-46d0-b694-0468d1999629",
   "metadata": {},
   "outputs": [],
   "source": []
  }
 ],
 "metadata": {
  "kernelspec": {
   "display_name": "Python 3 (ipykernel)",
   "language": "python",
   "name": "python3"
  },
  "language_info": {
   "codemirror_mode": {
    "name": "ipython",
    "version": 3
   },
   "file_extension": ".py",
   "mimetype": "text/x-python",
   "name": "python",
   "nbconvert_exporter": "python",
   "pygments_lexer": "ipython3",
   "version": "3.12.7"
  }
 },
 "nbformat": 4,
 "nbformat_minor": 5
}
